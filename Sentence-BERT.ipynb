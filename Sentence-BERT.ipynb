{
 "cells": [
  {
   "cell_type": "code",
   "execution_count": 5,
   "id": "a9299c5b",
   "metadata": {},
   "outputs": [],
   "source": [
    "from sentence_transformers import SentenceTransformer,util"
   ]
  },
  {
   "cell_type": "code",
   "execution_count": 2,
   "id": "0b16c414",
   "metadata": {},
   "outputs": [
    {
     "data": {
      "application/json": {
       "ascii": false,
       "bar_format": null,
       "colour": null,
       "elapsed": 0.007973194122314453,
       "initial": 0,
       "n": 0,
       "ncols": null,
       "nrows": 29,
       "postfix": null,
       "prefix": "Downloading (…)001fa/.gitattributes",
       "rate": null,
       "total": 690,
       "unit": "B",
       "unit_divisor": 1000,
       "unit_scale": true
      },
      "application/vnd.jupyter.widget-view+json": {
       "model_id": "b99991b6ffb347e2943b401efacf82c1",
       "version_major": 2,
       "version_minor": 0
      },
      "text/plain": [
       "Downloading (…)001fa/.gitattributes:   0%|          | 0.00/690 [00:00<?, ?B/s]"
      ]
     },
     "metadata": {},
     "output_type": "display_data"
    },
    {
     "data": {
      "application/json": {
       "ascii": false,
       "bar_format": null,
       "colour": null,
       "elapsed": 0.004983425140380859,
       "initial": 0,
       "n": 0,
       "ncols": null,
       "nrows": 29,
       "postfix": null,
       "prefix": "Downloading (…)_Pooling/config.json",
       "rate": null,
       "total": 190,
       "unit": "B",
       "unit_divisor": 1000,
       "unit_scale": true
      },
      "application/vnd.jupyter.widget-view+json": {
       "model_id": "b1678bcc6bfc49379ba8f716dd196e3b",
       "version_major": 2,
       "version_minor": 0
      },
      "text/plain": [
       "Downloading (…)_Pooling/config.json:   0%|          | 0.00/190 [00:00<?, ?B/s]"
      ]
     },
     "metadata": {},
     "output_type": "display_data"
    },
    {
     "data": {
      "application/json": {
       "ascii": false,
       "bar_format": null,
       "colour": null,
       "elapsed": 0.006070852279663086,
       "initial": 0,
       "n": 0,
       "ncols": null,
       "nrows": 29,
       "postfix": null,
       "prefix": "Downloading (…)3bbb8001fa/README.md",
       "rate": null,
       "total": 3693,
       "unit": "B",
       "unit_divisor": 1000,
       "unit_scale": true
      },
      "application/vnd.jupyter.widget-view+json": {
       "model_id": "a60ee120f4ae4457873403b3f50492f4",
       "version_major": 2,
       "version_minor": 0
      },
      "text/plain": [
       "Downloading (…)3bbb8001fa/README.md:   0%|          | 0.00/3.69k [00:00<?, ?B/s]"
      ]
     },
     "metadata": {},
     "output_type": "display_data"
    },
    {
     "data": {
      "application/json": {
       "ascii": false,
       "bar_format": null,
       "colour": null,
       "elapsed": 0.006976604461669922,
       "initial": 0,
       "n": 0,
       "ncols": null,
       "nrows": 29,
       "postfix": null,
       "prefix": "Downloading (…)bb8001fa/config.json",
       "rate": null,
       "total": 629,
       "unit": "B",
       "unit_divisor": 1000,
       "unit_scale": true
      },
      "application/vnd.jupyter.widget-view+json": {
       "model_id": "a9f33b4eb5b84d11877f46b06b1ed6b8",
       "version_major": 2,
       "version_minor": 0
      },
      "text/plain": [
       "Downloading (…)bb8001fa/config.json:   0%|          | 0.00/629 [00:00<?, ?B/s]"
      ]
     },
     "metadata": {},
     "output_type": "display_data"
    },
    {
     "data": {
      "application/json": {
       "ascii": false,
       "bar_format": null,
       "colour": null,
       "elapsed": 0.006064653396606445,
       "initial": 0,
       "n": 0,
       "ncols": null,
       "nrows": 29,
       "postfix": null,
       "prefix": "Downloading (…)ce_transformers.json",
       "rate": null,
       "total": 122,
       "unit": "B",
       "unit_divisor": 1000,
       "unit_scale": true
      },
      "application/vnd.jupyter.widget-view+json": {
       "model_id": "be2c2c2bab134581b8994263d05ccaa3",
       "version_major": 2,
       "version_minor": 0
      },
      "text/plain": [
       "Downloading (…)ce_transformers.json:   0%|          | 0.00/122 [00:00<?, ?B/s]"
      ]
     },
     "metadata": {},
     "output_type": "display_data"
    },
    {
     "data": {
      "application/json": {
       "ascii": false,
       "bar_format": null,
       "colour": null,
       "elapsed": 0.004982948303222656,
       "initial": 0,
       "n": 0,
       "ncols": null,
       "nrows": 29,
       "postfix": null,
       "prefix": "Downloading pytorch_model.bin",
       "rate": null,
       "total": 90895153,
       "unit": "B",
       "unit_divisor": 1000,
       "unit_scale": true
      },
      "application/vnd.jupyter.widget-view+json": {
       "model_id": "56d48a61aee7495eb1d3ebd150108b3a",
       "version_major": 2,
       "version_minor": 0
      },
      "text/plain": [
       "Downloading pytorch_model.bin:   0%|          | 0.00/90.9M [00:00<?, ?B/s]"
      ]
     },
     "metadata": {},
     "output_type": "display_data"
    },
    {
     "data": {
      "application/json": {
       "ascii": false,
       "bar_format": null,
       "colour": null,
       "elapsed": 0.0069773197174072266,
       "initial": 0,
       "n": 0,
       "ncols": null,
       "nrows": 29,
       "postfix": null,
       "prefix": "Downloading (…)nce_bert_config.json",
       "rate": null,
       "total": 53,
       "unit": "B",
       "unit_divisor": 1000,
       "unit_scale": true
      },
      "application/vnd.jupyter.widget-view+json": {
       "model_id": "6c8f8b5a234a4fc6be257af422c9c5ee",
       "version_major": 2,
       "version_minor": 0
      },
      "text/plain": [
       "Downloading (…)nce_bert_config.json:   0%|          | 0.00/53.0 [00:00<?, ?B/s]"
      ]
     },
     "metadata": {},
     "output_type": "display_data"
    },
    {
     "data": {
      "application/json": {
       "ascii": false,
       "bar_format": null,
       "colour": null,
       "elapsed": 0.006003379821777344,
       "initial": 0,
       "n": 0,
       "ncols": null,
       "nrows": 29,
       "postfix": null,
       "prefix": "Downloading (…)cial_tokens_map.json",
       "rate": null,
       "total": 112,
       "unit": "B",
       "unit_divisor": 1000,
       "unit_scale": true
      },
      "application/vnd.jupyter.widget-view+json": {
       "model_id": "28f191ded7234fe69a561bc55187b1b6",
       "version_major": 2,
       "version_minor": 0
      },
      "text/plain": [
       "Downloading (…)cial_tokens_map.json:   0%|          | 0.00/112 [00:00<?, ?B/s]"
      ]
     },
     "metadata": {},
     "output_type": "display_data"
    },
    {
     "data": {
      "application/json": {
       "ascii": false,
       "bar_format": null,
       "colour": null,
       "elapsed": 0.005934000015258789,
       "initial": 0,
       "n": 0,
       "ncols": null,
       "nrows": 29,
       "postfix": null,
       "prefix": "Downloading (…)001fa/tokenizer.json",
       "rate": null,
       "total": 466081,
       "unit": "B",
       "unit_divisor": 1000,
       "unit_scale": true
      },
      "application/vnd.jupyter.widget-view+json": {
       "model_id": "d780ae902bef470f80edeea5a8f04fe1",
       "version_major": 2,
       "version_minor": 0
      },
      "text/plain": [
       "Downloading (…)001fa/tokenizer.json:   0%|          | 0.00/466k [00:00<?, ?B/s]"
      ]
     },
     "metadata": {},
     "output_type": "display_data"
    },
    {
     "data": {
      "application/json": {
       "ascii": false,
       "bar_format": null,
       "colour": null,
       "elapsed": 0.006970882415771484,
       "initial": 0,
       "n": 0,
       "ncols": null,
       "nrows": 29,
       "postfix": null,
       "prefix": "Downloading (…)okenizer_config.json",
       "rate": null,
       "total": 314,
       "unit": "B",
       "unit_divisor": 1000,
       "unit_scale": true
      },
      "application/vnd.jupyter.widget-view+json": {
       "model_id": "f8a22d8534084134a8b4056f4ab4cac4",
       "version_major": 2,
       "version_minor": 0
      },
      "text/plain": [
       "Downloading (…)okenizer_config.json:   0%|          | 0.00/314 [00:00<?, ?B/s]"
      ]
     },
     "metadata": {},
     "output_type": "display_data"
    },
    {
     "data": {
      "application/json": {
       "ascii": false,
       "bar_format": null,
       "colour": null,
       "elapsed": 0.006052732467651367,
       "initial": 0,
       "n": 0,
       "ncols": null,
       "nrows": 29,
       "postfix": null,
       "prefix": "Downloading (…)3bbb8001fa/vocab.txt",
       "rate": null,
       "total": 231508,
       "unit": "B",
       "unit_divisor": 1000,
       "unit_scale": true
      },
      "application/vnd.jupyter.widget-view+json": {
       "model_id": "8c13807998d34adba61c93be763d5462",
       "version_major": 2,
       "version_minor": 0
      },
      "text/plain": [
       "Downloading (…)3bbb8001fa/vocab.txt:   0%|          | 0.00/232k [00:00<?, ?B/s]"
      ]
     },
     "metadata": {},
     "output_type": "display_data"
    },
    {
     "data": {
      "application/json": {
       "ascii": false,
       "bar_format": null,
       "colour": null,
       "elapsed": 0.004978179931640625,
       "initial": 0,
       "n": 0,
       "ncols": null,
       "nrows": 29,
       "postfix": null,
       "prefix": "Downloading (…)b8001fa/modules.json",
       "rate": null,
       "total": 229,
       "unit": "B",
       "unit_divisor": 1000,
       "unit_scale": true
      },
      "application/vnd.jupyter.widget-view+json": {
       "model_id": "89781c2890b44290960066e1548f86fa",
       "version_major": 2,
       "version_minor": 0
      },
      "text/plain": [
       "Downloading (…)b8001fa/modules.json:   0%|          | 0.00/229 [00:00<?, ?B/s]"
      ]
     },
     "metadata": {},
     "output_type": "display_data"
    }
   ],
   "source": [
    "# Loading the sebrt pretrained model\n",
    "model = SentenceTransformer('paraphrase-MiniLM-L6-v2') "
   ]
  },
  {
   "cell_type": "markdown",
   "id": "f0d8d93c",
   "metadata": {},
   "source": [
    "## Embedding the sentences"
   ]
  },
  {
   "cell_type": "code",
   "execution_count": 4,
   "id": "dd2f1f68",
   "metadata": {},
   "outputs": [
    {
     "name": "stdout",
     "output_type": "stream",
     "text": [
      "[ 6.18141890e-01 -2.47766539e-01 -2.35646963e-01 -1.10645741e-01\n",
      " -1.04881905e-01 -2.41441444e-01 -5.60290106e-02 -3.00354481e-01\n",
      " -2.29937658e-02  1.77720606e-01  2.20474347e-01  3.82652462e-01\n",
      "  4.48558062e-01 -1.07466415e-01 -2.95623481e-01 -5.68135753e-02\n",
      " -3.91452789e-01  1.36096910e-01  1.37871012e-01  9.69042536e-03\n",
      " -2.35751495e-01 -5.08761644e-01 -2.31672525e-02  9.46922824e-02\n",
      " -7.72723436e-01 -1.64654881e-01 -7.71317244e-01 -4.58486110e-01\n",
      "  1.26624003e-01 -3.72232944e-01  6.99772716e-01 -4.07931209e-01\n",
      " -4.35257405e-01 -7.20830977e-01 -7.07936049e-01  3.66328061e-01\n",
      " -4.00922418e-01 -1.83998287e-01 -1.25787169e-01  2.96749957e-02\n",
      " -1.53919384e-01  4.97117266e-02  1.04703978e-01  2.14557603e-01\n",
      " -6.93095922e-02  3.47619712e-01 -1.13453770e+00 -3.64123344e-01\n",
      "  1.79999575e-01 -3.19598585e-01  1.38954163e-01  2.88711727e-01\n",
      " -2.80651122e-01  1.57439455e-01  7.94158399e-01  2.17849091e-02\n",
      "  6.92501515e-02  1.28878400e-01 -2.73195654e-01  4.02935416e-01\n",
      "  4.90770023e-03  2.49019638e-01  5.34649827e-02 -3.27993780e-02\n",
      "  5.45087876e-03 -1.30944356e-01 -1.05058812e-01 -2.60344237e-01\n",
      " -7.87335455e-01  5.56675911e-01 -4.16127965e-02 -1.58615202e-01\n",
      " -8.69098306e-01 -4.93392944e-01  4.19703871e-01  5.16958833e-01\n",
      " -3.88979405e-01 -2.19302431e-01  3.13731194e-01 -1.38509229e-01\n",
      "  2.20364660e-01 -4.71021622e-01 -6.95656538e-02 -7.31819794e-02\n",
      "  5.11701822e-01  2.48662472e-01  8.13631341e-03 -2.71308392e-01\n",
      " -1.23241112e-01 -2.71371096e-01  3.82957160e-01 -2.71657985e-02\n",
      " -5.10333516e-02  3.21932763e-01  3.46426457e-01  1.50009483e-01\n",
      "  2.13329867e-02 -4.88875031e-01 -3.52026910e-01 -2.09273115e-01\n",
      "  3.92235965e-01  3.48471195e-01  8.93745348e-02 -5.97519457e-01\n",
      "  5.05041897e-01 -3.85576189e-02 -1.08177848e-01 -5.04575968e-02\n",
      "  4.04596210e-01  5.95330954e-01 -1.90808102e-02 -6.25682175e-01\n",
      "  3.50109249e-01  5.56344271e-01  2.28004783e-01  4.24734503e-02\n",
      " -3.14574339e-03  5.90782017e-02 -2.11211622e-01 -1.07581472e+00\n",
      "  7.71469891e-01  2.01783434e-01  3.63287061e-01  1.79474518e-01\n",
      "  5.45620382e-01 -3.73802632e-02 -2.14905307e-01  4.37207133e-01\n",
      "  1.42317668e-01 -3.91385376e-01  2.07026020e-01 -4.75176841e-01\n",
      " -2.34007031e-01 -6.04603171e-01 -9.55023542e-02  5.72471082e-01\n",
      " -2.07367957e-01 -6.16853079e-03 -5.57851374e-01  5.03468290e-02\n",
      "  3.81768346e-02 -4.62466538e-01  6.37000501e-01 -3.10219646e-01\n",
      " -9.28204358e-02  9.45798084e-02 -2.97360212e-01  4.86291856e-01\n",
      " -5.05988151e-02  5.69644034e-01 -5.58218420e-01 -1.92479845e-02\n",
      "  4.22139049e-01  1.12663500e-01 -4.13201153e-01 -1.16397478e-02\n",
      " -3.47174674e-01  1.83848768e-01 -1.00452282e-01 -5.53434908e-01\n",
      " -3.30843359e-01  6.41039431e-01 -4.52980399e-03 -2.22023055e-01\n",
      "  1.12254955e-01 -3.54324020e-02 -1.56705350e-01  3.09475422e-01\n",
      " -4.71992612e-01  1.57340765e-01  5.69429159e-01 -9.33755413e-02\n",
      " -6.96076274e-01  1.29184395e-03 -5.33222072e-02  9.76563990e-02\n",
      " -3.70742589e-01 -2.24616900e-02  3.64580750e-01  5.19092917e-01\n",
      "  2.31598318e-01  1.91293418e-01  4.52227145e-01  6.57139063e-01\n",
      "  2.92715937e-01 -2.64045924e-01 -4.08702403e-01  3.18081737e-01\n",
      "  3.53736520e-01 -2.36470833e-01  2.03707874e-01 -4.82819080e-01\n",
      "  3.45805436e-01 -2.18559042e-01 -1.54088080e-01  2.43073076e-01\n",
      " -3.34210366e-01  8.53095770e-01  1.79170772e-01 -4.72347528e-01\n",
      "  4.31342989e-01 -1.29287672e+00  7.83851802e-01 -2.34303176e-01\n",
      " -1.84624009e-02 -7.74544775e-02 -1.06836855e+00 -5.76899052e-01\n",
      "  9.32948664e-02  1.23891145e-01 -4.31792766e-01  5.87533936e-02\n",
      " -2.00605810e-01  3.41289788e-01 -8.85143578e-02 -2.20848937e-02\n",
      " -1.23698585e-01  1.11528441e-01 -4.87637520e-02 -2.78441221e-01\n",
      "  2.57211864e-01 -1.14042796e-02  4.42629121e-02 -7.37254694e-02\n",
      "  3.48499328e-01 -1.65514365e-01  5.03781021e-01  2.39380032e-01\n",
      "  2.51348585e-01  4.65443969e-01  4.51754779e-02 -9.01445895e-02\n",
      " -2.63983101e-01  1.97352648e-01  1.91501267e-02  1.43099979e-01\n",
      " -1.95382208e-01  1.14450002e+00  9.08038676e-01 -2.05591157e-01\n",
      "  1.08061962e-01  4.38577682e-02  3.65585893e-01  2.36138687e-01\n",
      "  5.01039863e-01  2.66131908e-01 -1.13058470e-01 -6.29928038e-02\n",
      "  6.79187402e-02  7.16896579e-02 -4.83006574e-02  6.99142516e-01\n",
      " -3.04445140e-02 -4.40764546e-01  8.30684841e-01 -5.76810300e-01\n",
      "  1.48074239e-01 -3.11155945e-01  5.19327521e-01  4.62021053e-01\n",
      "  5.49853206e-01 -4.68154132e-01 -5.02307177e-01 -9.24697697e-01\n",
      " -2.32021034e-01 -2.59783745e-01 -2.60377843e-02  9.48914945e-01\n",
      "  5.89543581e-01  1.02778308e-01 -5.84506035e-01  2.38257393e-01\n",
      " -3.62830848e-01  6.01525187e-01  3.30963612e-01 -1.48315907e-01\n",
      "  1.27162948e-01 -1.95138324e-02 -6.26164377e-01  5.76099038e-01\n",
      " -1.35000810e-01  1.30487293e-01  3.19893956e-01 -1.72341019e-01\n",
      "  4.73706387e-02 -1.76225320e-01 -9.90556926e-02  1.27663806e-01\n",
      " -3.51533681e-01 -4.49936002e-01 -2.96291292e-01  6.88258410e-01\n",
      "  1.44422710e-01 -7.17695057e-02 -6.39546394e-01  8.70341539e-01\n",
      " -2.61607736e-01  2.53567040e-01 -5.25304556e-01  6.80284739e-01\n",
      "  4.11660284e-01 -4.86291230e-01  4.73111510e-01  2.37334907e-01\n",
      " -1.31881252e-01  1.95236638e-01  3.75967473e-01 -3.01358923e-02\n",
      " -1.07897544e+00  1.53190652e-02 -3.68160367e-01  8.44720080e-02\n",
      "  7.07661957e-02 -7.85740495e-01  1.49589172e-02  4.89911556e-01\n",
      "  5.35890043e-01  5.05841792e-01 -2.38444984e-01  2.26555929e-01\n",
      "  1.60236418e-01  5.19334972e-01 -7.47158408e-01  4.42012489e-01\n",
      "  3.26026939e-02 -6.03716612e-01 -9.52405512e-01  1.49064928e-01\n",
      " -1.88333407e-01 -8.04393172e-01  3.83605033e-01  4.81609255e-01\n",
      " -5.17204367e-02 -1.75115794e-01 -9.38909799e-02  1.17582105e-01\n",
      " -2.29234979e-01  2.50668168e-01 -2.01052111e-02 -2.55738616e-01\n",
      " -3.49061370e-01 -4.87398922e-01 -3.44792873e-01 -5.40447235e-01\n",
      " -7.70741463e-01  9.72506478e-02  2.93619901e-01  1.26179144e-01\n",
      "  2.75959969e-01 -2.71282166e-01 -3.57969254e-02  3.23333830e-01\n",
      " -5.69663584e-01  3.77964467e-01  1.93891138e-01  6.82373106e-01\n",
      " -2.32872054e-01 -4.31931764e-02  2.19233662e-01 -2.35727020e-02\n",
      "  3.81753236e-01 -7.09742159e-02  5.40876165e-02  2.85164386e-01\n",
      " -4.84341830e-01 -6.59352541e-02  1.04783624e-01 -8.20820570e-01\n",
      "  7.75946856e-01 -3.98558587e-01 -3.90865467e-02  2.10818201e-01\n",
      " -1.58815801e-01 -1.88989311e-01  9.08059552e-02  3.28823924e-02\n",
      " -1.18836999e-01 -4.04745936e-01 -3.45193654e-01  4.70433623e-01\n",
      " -9.35538933e-02  1.72157109e-01  1.11659646e+00  6.39504731e-01]\n",
      "[ 0.17083882 -0.7342668   0.10025552  0.1326585  -0.4335059  -0.03049276\n",
      " -0.34129155 -0.33028167  0.39851266  0.29481044 -0.13019669 -0.3361684\n",
      "  0.15129122 -0.02382426 -0.08619761 -0.00567492  0.5030798  -0.60554737\n",
      "  0.25404313 -0.20526065 -0.15463524 -0.1750381   0.36639336 -0.33664897\n",
      " -0.3442492  -0.23663221 -0.28577903 -0.43837178 -0.17849137 -0.0885251\n",
      "  0.24421911 -0.11182015 -0.01769269 -0.23198463 -0.60700786  0.1790421\n",
      "  0.5838969  -0.24670668 -0.164513    0.06743803  0.20743509  0.05444552\n",
      "  0.5749478  -0.3157656  -0.21049751  0.47514585 -0.23378181 -0.04312395\n",
      " -0.2720766   0.13448466 -0.13774258  0.04035182  0.45641553  0.20381986\n",
      "  0.39852428 -0.37052107  0.2525112  -0.10123911 -0.21740231 -0.18916327\n",
      "  0.33871925  0.08517761  0.54449326  0.3202887  -0.12148172 -0.23943658\n",
      "  0.01234493  0.4802106  -0.6368594   0.05573782  0.08472819  0.14441893\n",
      "  0.3171689   0.42339757 -0.24378861  0.6202471   0.10051022 -0.6365238\n",
      "  0.17958571 -0.13581981 -0.02767584 -0.07951451  0.07567155  0.3957388\n",
      "  0.43330842 -0.15568863 -0.54145974 -0.36707717 -1.1806566  -0.13601848\n",
      "  0.09054027 -0.2240215   0.83290106 -0.1546805  -0.21194172  0.30004466\n",
      "  0.03766977 -0.1280814  -0.2980704   0.05667464  0.04060626  0.18128951\n",
      "  0.6849919  -0.38760138  0.051795    0.07833446 -0.7719593   0.34805182\n",
      " -0.03436228  0.3055047  -0.44159985 -0.57598966 -0.33673933  0.31611603\n",
      " -0.16662519 -0.33715257 -0.33558896 -0.41636884  0.6015171  -0.47676098\n",
      "  0.27518752 -0.11624669  0.12710737 -0.46602857  0.43291208 -0.13804793\n",
      " -0.25252402  0.39243066 -0.03820154  0.24631342 -0.1099783   0.09476175\n",
      " -0.19970612 -0.09811452 -0.40478     0.3951972   0.02660465 -0.05049148\n",
      "  0.3651675   0.6355722   0.06599392 -0.35708135  0.6975888   0.03045944\n",
      "  0.11225725  0.20093885  0.38933718 -0.05462333 -0.32793126  0.41130874\n",
      "  0.3541508  -0.27760395  0.267597   -0.2935646   0.05254859 -0.24062243\n",
      " -0.08265123  0.44718483  0.41851708 -0.25946024  0.26477942 -0.20520888\n",
      " -0.191121   -0.00295489 -0.4005648  -0.5015347  -0.47726873 -0.08163077\n",
      "  0.4203067  -0.51922613 -0.2489488   0.6490002   0.00977222  0.59836346\n",
      " -0.29002565 -0.3493449  -0.4354821   0.3156965   0.20777911  0.2065939\n",
      " -0.0747781   0.51751816 -0.63402534  0.01325274  0.10806231 -0.40707085\n",
      " -0.11609709 -0.10749752  0.33731297 -0.05994515  0.3817641  -0.19093236\n",
      "  0.25625762 -0.42625332  0.5746072   0.1240432  -0.50173265  0.7012151\n",
      "  0.6268955  -0.51711726 -0.17288531 -0.6787495   0.31620076 -0.1291435\n",
      "  0.5015557  -0.24660327 -0.2525678   0.1061846  -0.19221386  0.1475965\n",
      " -0.09333358  0.51620877 -0.22235927  0.06881283  0.23877455  0.5966644\n",
      " -0.4656458   0.1275261   0.18316466  0.01132887  0.07335962  0.08805329\n",
      "  0.03021564 -0.21226759 -0.21981555 -0.11718247  0.17421469  0.2857674\n",
      "  0.07038281  0.11188412 -0.26087254  0.32538387 -0.06924358  0.30248147\n",
      " -0.46193126  0.08167503  0.40666056  0.32021797  0.27399832  0.12492533\n",
      "  0.33625573 -0.07750125  0.24380884 -0.3385297  -0.25377962 -0.02685991\n",
      " -0.09781418  0.45379066 -0.74924064  0.549341   -0.93290025 -0.39228743\n",
      " -0.02309935 -0.26971605 -0.18028022 -0.57987195 -0.1593083  -0.14443702\n",
      "  0.05824448  0.29992193 -0.2538962   0.01931445 -0.12457516 -0.0216556\n",
      " -0.18752937 -0.57256454 -0.46692887  0.49314767  0.22456087  0.29427373\n",
      " -0.6289785  -0.3082015   0.38002202  0.42949435  0.21215191  0.4334056\n",
      "  0.19171433 -0.08376848 -0.21471919  0.6596302  -0.0995768   0.12129116\n",
      "  0.00178078  0.47209504 -0.25050434  0.4030346  -0.37087     0.73875976\n",
      "  0.04698832 -0.22024097  0.08821148  0.2883231  -0.28275788 -0.17215212\n",
      " -0.5774071   0.7496116  -0.6946335   0.03044038 -0.20055105  0.12892509\n",
      "  0.51717806 -0.50308645  0.6909904   0.27177894 -0.0193182  -0.05013871\n",
      "  0.55377936  0.06289492 -0.41442385 -0.8474131  -0.09528884  0.09072947\n",
      "  0.5579512  -0.1270563   0.10256379  0.39767295 -0.44378567 -0.4080492\n",
      " -0.0818283   0.09834337  0.11085096  0.36595678  0.15767288  0.23221587\n",
      " -0.10150814 -0.5719034   0.13032426 -0.14109908 -0.3257946   0.4425517\n",
      "  0.0607378   0.18338795 -0.57067543 -0.01762455  0.04013221  0.41535518\n",
      " -0.03245997  0.17317206 -0.01797632  0.16557506  0.03099843  0.4561843\n",
      "  0.30344665 -0.40780145 -0.39191726 -0.20156817 -0.21165308 -0.3964095\n",
      "  0.02912537 -0.1395973  -0.19469883 -0.1633357  -0.52500635 -0.21303374\n",
      "  0.33713463 -0.00952704 -0.5656938  -0.25464383 -0.00275621 -0.43367893\n",
      "  0.6484382   0.44844964  0.21290779  0.23529719  0.25945973  0.15006147\n",
      "  0.31977203 -0.15101908 -0.04550241  0.03953409 -0.62433124 -0.02030054\n",
      " -0.0381673  -0.16454525 -0.6250479  -0.07010237  0.21626201 -0.22722712\n",
      "  0.30136582  0.39239198  0.32553247 -0.49189118  0.6979034   0.7425781 ]\n"
     ]
    }
   ],
   "source": [
    "\n",
    "sentences = ['The quick brown fox jumps over the lazy dog', \n",
    "             'Dogs are a popular household pet around the world']\n",
    "embeddings = model.encode(sentences)\n",
    "for embedding in embeddings:\n",
    "    print(embedding)"
   ]
  },
  {
   "cell_type": "markdown",
   "id": "ee850c8b",
   "metadata": {},
   "source": [
    "With SentenceTransformer('all-MiniLM-L6-v2') we define which sentence transformer model we like to load. In this example, we load all-MiniLM-L6-v2, which is a MiniLM model fine tuned on a large dataset of over 1 billion training pairs.\n",
    "\n",
    "BERT (and other transformer networks) output for each token in our input text an embedding. In order to create a fixed-sized sentence embedding out of this, the model applies mean pooling, i.e., the output embeddings for all tokens are averaged to yield a fixed-sized vector."
   ]
  },
  {
   "cell_type": "markdown",
   "id": "c10157fe",
   "metadata": {},
   "source": [
    "## Comparing Sentence Similarities\n",
    "The sentences (texts) are mapped such that sentences with similar meanings are close in vector space. One common method to measure the similarity in vector space is to use cosine similarity. For two sentences, this can be done like this:"
   ]
  },
  {
   "cell_type": "code",
   "execution_count": 14,
   "id": "0ab9525f",
   "metadata": {},
   "outputs": [
    {
     "name": "stdout",
     "output_type": "stream",
     "text": [
      "Cosine-Similarity: tensor([[0.6153]])\n"
     ]
    }
   ],
   "source": [
    "model = SentenceTransformer('all-MiniLM-L6-v2')\n",
    "#Sentences are encoded by calling model.encode()\n",
    "emb1 = model.encode(\"This is a red cat with a hat.\")\n",
    "emb2 = model.encode(\"Have you seen my red cat?\")\n",
    "\n",
    "cos_sim = util.cos_sim(emb1, emb2)\n",
    "print(\"Cosine-Similarity:\", cos_sim)"
   ]
  },
  {
   "cell_type": "markdown",
   "id": "2bfd5e3d",
   "metadata": {},
   "source": [
    "### Multiple sentences example-1\n",
    "Finding top 5 similar pairs"
   ]
  },
  {
   "cell_type": "code",
   "execution_count": 15,
   "id": "fc55e9bd",
   "metadata": {},
   "outputs": [
    {
     "name": "stdout",
     "output_type": "stream",
     "text": [
      "Top-5 most similar pairs:\n",
      "A man is eating food. \t A man is eating a piece of bread. \t 0.7553\n",
      "A man is riding a horse. \t A man is riding a white horse on an enclosed ground. \t 0.7369\n",
      "A monkey is playing drums. \t Someone in a gorilla costume is playing a set of drums. \t 0.6433\n",
      "A woman is playing violin. \t Someone in a gorilla costume is playing a set of drums. \t 0.2564\n",
      "A man is eating food. \t A man is riding a horse. \t 0.2474\n"
     ]
    }
   ],
   "source": [
    "from sentence_transformers import SentenceTransformer, util\n",
    "model = SentenceTransformer('all-MiniLM-L6-v2')\n",
    "\n",
    "sentences = ['A man is eating food.',\n",
    "          'A man is eating a piece of bread.',\n",
    "          'The girl is carrying a baby.',\n",
    "          'A man is riding a horse.',\n",
    "          'A woman is playing violin.',\n",
    "          'Two men pushed carts through the woods.',\n",
    "          'A man is riding a white horse on an enclosed ground.',\n",
    "          'A monkey is playing drums.',\n",
    "          'Someone in a gorilla costume is playing a set of drums.'\n",
    "          ]\n",
    "\n",
    "#Encode all sentences\n",
    "embeddings = model.encode(sentences)\n",
    "\n",
    "#Compute cosine similarity between all pairs\n",
    "cos_sim = util.cos_sim(embeddings, embeddings)\n",
    "\n",
    "#Add all pairs to a list with their cosine similarity score\n",
    "all_sentence_combinations = []\n",
    "for i in range(len(cos_sim)-1):\n",
    "    for j in range(i+1, len(cos_sim)):\n",
    "        all_sentence_combinations.append([cos_sim[i][j], i, j])\n",
    "\n",
    "#Sort list by the highest cosine similarity score\n",
    "all_sentence_combinations = sorted(all_sentence_combinations, key=lambda x: x[0], reverse=True)\n",
    "\n",
    "print(\"Top-5 most similar pairs:\")\n",
    "for score, i, j in all_sentence_combinations[0:5]:\n",
    "    print(\"{} \\t {} \\t {:.4f}\".format(sentences[i], sentences[j], cos_sim[i][j]))"
   ]
  },
  {
   "cell_type": "markdown",
   "id": "7114f5dd",
   "metadata": {},
   "source": [
    "### Multiple sentences example-2\n",
    "Top 2 similar pairs"
   ]
  },
  {
   "cell_type": "code",
   "execution_count": 17,
   "id": "84b95168",
   "metadata": {
    "scrolled": true
   },
   "outputs": [
    {
     "name": "stdout",
     "output_type": "stream",
     "text": [
      "The new movie is awesome \t\t The new movie is so great \t\t Score: 0.8939\n",
      "The cat sits outside \t\t The cat plays in the garden \t\t Score: 0.6788\n"
     ]
    }
   ],
   "source": [
    "from sentence_transformers import SentenceTransformer, util\n",
    "model = SentenceTransformer('all-MiniLM-L6-v2')\n",
    "sentences = ['The cat sits outside',\n",
    "             'A man is playing guitar',\n",
    "             'I love pasta',\n",
    "             'The new movie is awesome',\n",
    "             'The cat plays in the garden',\n",
    "             'A woman watches TV',\n",
    "             'The new movie is so great',\n",
    "             'Do you like pizza?']\n",
    "#encode the sentences \n",
    "embeddings = model.encode(sentences, convert_to_tensor=True)\n",
    "#compute the similarity scores\n",
    "cosine_scores = util.cos_sim(embeddings, embeddings)\n",
    "#compute/find the highest similarity scores\n",
    "pairs = []\n",
    "for i in range(len(cosine_scores)-1):\n",
    "    for j in range(i+1, len(cosine_scores)):\n",
    "        pairs.append({'index': [i, j], 'score': cosine_scores[i] \n",
    "                                                             [j]})\n",
    "#sort the scores in decreasing order \n",
    "pairs = sorted(pairs, key=lambda x: x['score'], reverse=True)\n",
    "for pair in pairs[0:2]:\n",
    "    i, j = pair['index']\n",
    "    print(\"{} \\t\\t {} \\t\\t Score: {:.4f}\".format(sentences[i],\n",
    "                                  sentences[j], pair['score']))"
   ]
  },
  {
   "cell_type": "markdown",
   "id": "13186d02",
   "metadata": {},
   "source": [
    "## Training our own Embeddings\n",
    "Training your own sentence embeddings models for all type of use-cases is easy and requires often only minimal coding effort. For a comprehensive tutorial, see:- https://www.sbert.net/docs/training/overview.html\n",
    "\n"
   ]
  },
  {
   "cell_type": "markdown",
   "id": "1a0844e4",
   "metadata": {},
   "source": [
    "### Creating Networks from Scratch"
   ]
  },
  {
   "cell_type": "code",
   "execution_count": 18,
   "id": "9cb798d7",
   "metadata": {},
   "outputs": [
    {
     "data": {
      "application/json": {
       "ascii": false,
       "bar_format": null,
       "colour": null,
       "elapsed": 0.005979299545288086,
       "initial": 0,
       "n": 0,
       "ncols": null,
       "nrows": 29,
       "postfix": null,
       "prefix": "Downloading (…)lve/main/config.json",
       "rate": null,
       "total": 570,
       "unit": "B",
       "unit_divisor": 1000,
       "unit_scale": true
      },
      "application/vnd.jupyter.widget-view+json": {
       "model_id": "54f54c3f5cb44375bcfb8e2a3d1d180a",
       "version_major": 2,
       "version_minor": 0
      },
      "text/plain": [
       "Downloading (…)lve/main/config.json:   0%|          | 0.00/570 [00:00<?, ?B/s]"
      ]
     },
     "metadata": {},
     "output_type": "display_data"
    },
    {
     "name": "stderr",
     "output_type": "stream",
     "text": [
      "c:\\Users\\Sandesh\\Anaconda3\\envs\\sample\\lib\\site-packages\\huggingface_hub\\file_download.py:133: UserWarning: `huggingface_hub` cache-system uses symlinks by default to efficiently store duplicated files but your machine does not support them in C:\\Users\\Sandesh\\.cache\\huggingface\\hub. Caching files will still work but in a degraded version that might require more space on your disk. This warning can be disabled by setting the `HF_HUB_DISABLE_SYMLINKS_WARNING` environment variable. For more details, see https://huggingface.co/docs/huggingface_hub/how-to-cache#limitations.\n",
      "To support symlinks on Windows, you either need to activate Developer Mode or to run Python as an administrator. In order to see activate developer mode, see this article: https://docs.microsoft.com/en-us/windows/apps/get-started/enable-your-device-for-development\n",
      "  warnings.warn(message)\n"
     ]
    },
    {
     "data": {
      "application/json": {
       "ascii": false,
       "bar_format": null,
       "colour": null,
       "elapsed": 0.005979061126708984,
       "initial": 0,
       "n": 0,
       "ncols": null,
       "nrows": 29,
       "postfix": null,
       "prefix": "Downloading pytorch_model.bin",
       "rate": null,
       "total": 440473133,
       "unit": "B",
       "unit_divisor": 1000,
       "unit_scale": true
      },
      "application/vnd.jupyter.widget-view+json": {
       "model_id": "d9a12bc856d047ddb3d088665dd64ab1",
       "version_major": 2,
       "version_minor": 0
      },
      "text/plain": [
       "Downloading pytorch_model.bin:   0%|          | 0.00/440M [00:00<?, ?B/s]"
      ]
     },
     "metadata": {},
     "output_type": "display_data"
    },
    {
     "name": "stderr",
     "output_type": "stream",
     "text": [
      "Some weights of the model checkpoint at bert-base-uncased were not used when initializing BertModel: ['cls.predictions.transform.LayerNorm.bias', 'cls.seq_relationship.bias', 'cls.predictions.bias', 'cls.predictions.transform.dense.bias', 'cls.predictions.transform.LayerNorm.weight', 'cls.predictions.decoder.weight', 'cls.predictions.transform.dense.weight', 'cls.seq_relationship.weight']\n",
      "- This IS expected if you are initializing BertModel from the checkpoint of a model trained on another task or with another architecture (e.g. initializing a BertForSequenceClassification model from a BertForPreTraining model).\n",
      "- This IS NOT expected if you are initializing BertModel from the checkpoint of a model that you expect to be exactly identical (initializing a BertForSequenceClassification model from a BertForSequenceClassification model).\n"
     ]
    },
    {
     "data": {
      "application/json": {
       "ascii": false,
       "bar_format": null,
       "colour": null,
       "elapsed": 0.006977081298828125,
       "initial": 0,
       "n": 0,
       "ncols": null,
       "nrows": 29,
       "postfix": null,
       "prefix": "Downloading (…)okenizer_config.json",
       "rate": null,
       "total": 28,
       "unit": "B",
       "unit_divisor": 1000,
       "unit_scale": true
      },
      "application/vnd.jupyter.widget-view+json": {
       "model_id": "007ff7e8e625445fbd3c3869124db65b",
       "version_major": 2,
       "version_minor": 0
      },
      "text/plain": [
       "Downloading (…)okenizer_config.json:   0%|          | 0.00/28.0 [00:00<?, ?B/s]"
      ]
     },
     "metadata": {},
     "output_type": "display_data"
    },
    {
     "data": {
      "application/json": {
       "ascii": false,
       "bar_format": null,
       "colour": null,
       "elapsed": 0.009966850280761719,
       "initial": 0,
       "n": 0,
       "ncols": null,
       "nrows": 29,
       "postfix": null,
       "prefix": "Downloading (…)solve/main/vocab.txt",
       "rate": null,
       "total": 231508,
       "unit": "B",
       "unit_divisor": 1000,
       "unit_scale": true
      },
      "application/vnd.jupyter.widget-view+json": {
       "model_id": "8ecb78dceb304a1d9067e4f256692fa1",
       "version_major": 2,
       "version_minor": 0
      },
      "text/plain": [
       "Downloading (…)solve/main/vocab.txt:   0%|          | 0.00/232k [00:00<?, ?B/s]"
      ]
     },
     "metadata": {},
     "output_type": "display_data"
    },
    {
     "data": {
      "application/json": {
       "ascii": false,
       "bar_format": null,
       "colour": null,
       "elapsed": 0.007912397384643555,
       "initial": 0,
       "n": 0,
       "ncols": null,
       "nrows": 29,
       "postfix": null,
       "prefix": "Downloading (…)/main/tokenizer.json",
       "rate": null,
       "total": 466062,
       "unit": "B",
       "unit_divisor": 1000,
       "unit_scale": true
      },
      "application/vnd.jupyter.widget-view+json": {
       "model_id": "af7c658e71034c8698dff4356c7a0478",
       "version_major": 2,
       "version_minor": 0
      },
      "text/plain": [
       "Downloading (…)/main/tokenizer.json:   0%|          | 0.00/466k [00:00<?, ?B/s]"
      ]
     },
     "metadata": {},
     "output_type": "display_data"
    }
   ],
   "source": [
    "from sentence_transformers import SentenceTransformer, models\n",
    "\n",
    "word_embedding_model = models.Transformer('bert-base-uncased', max_seq_length=256)\n",
    "pooling_model = models.Pooling(word_embedding_model.get_word_embedding_dimension())\n",
    "\n",
    "model = SentenceTransformer(modules=[word_embedding_model, pooling_model])"
   ]
  },
  {
   "cell_type": "code",
   "execution_count": 19,
   "id": "5b42a36b",
   "metadata": {},
   "outputs": [
    {
     "name": "stderr",
     "output_type": "stream",
     "text": [
      "Some weights of the model checkpoint at bert-base-uncased were not used when initializing BertModel: ['cls.predictions.transform.LayerNorm.bias', 'cls.seq_relationship.bias', 'cls.predictions.bias', 'cls.predictions.transform.dense.bias', 'cls.predictions.transform.LayerNorm.weight', 'cls.predictions.decoder.weight', 'cls.predictions.transform.dense.weight', 'cls.seq_relationship.weight']\n",
      "- This IS expected if you are initializing BertModel from the checkpoint of a model trained on another task or with another architecture (e.g. initializing a BertForSequenceClassification model from a BertForPreTraining model).\n",
      "- This IS NOT expected if you are initializing BertModel from the checkpoint of a model that you expect to be exactly identical (initializing a BertForSequenceClassification model from a BertForSequenceClassification model).\n"
     ]
    }
   ],
   "source": [
    "from sentence_transformers import SentenceTransformer, models\n",
    "from torch import nn\n",
    "\n",
    "word_embedding_model = models.Transformer('bert-base-uncased', max_seq_length=256)\n",
    "pooling_model = models.Pooling(word_embedding_model.get_word_embedding_dimension())\n",
    "dense_model = models.Dense(in_features=pooling_model.get_sentence_embedding_dimension(), out_features=256, activation_function=nn.Tanh())\n",
    "\n",
    "model = SentenceTransformer(modules=[word_embedding_model, pooling_model, dense_model])"
   ]
  },
  {
   "cell_type": "markdown",
   "id": "465b0e93",
   "metadata": {},
   "source": [
    "### Training Data\n",
    "To represent our training data, we use the InputExample class to store training examples. As parameters, it accepts texts, which is a list of strings representing our pairs (or triplets). Further, we can also pass a label (either float or int). The following shows a simple example, where we pass text pairs to InputExample together with a label indicating the semantic similarity."
   ]
  },
  {
   "cell_type": "code",
   "execution_count": 20,
   "id": "d277ddc1",
   "metadata": {},
   "outputs": [
    {
     "data": {
      "application/json": {
       "ascii": false,
       "bar_format": null,
       "colour": null,
       "elapsed": 0.02890324592590332,
       "initial": 0,
       "n": 0,
       "ncols": null,
       "nrows": 29,
       "postfix": null,
       "prefix": "Downloading (…)925a9/.gitattributes",
       "rate": null,
       "total": 690,
       "unit": "B",
       "unit_divisor": 1000,
       "unit_scale": true
      },
      "application/vnd.jupyter.widget-view+json": {
       "model_id": "91f72c9601264fb59f1040662fe57d7c",
       "version_major": 2,
       "version_minor": 0
      },
      "text/plain": [
       "Downloading (…)925a9/.gitattributes:   0%|          | 0.00/690 [00:00<?, ?B/s]"
      ]
     },
     "metadata": {},
     "output_type": "display_data"
    },
    {
     "data": {
      "application/json": {
       "ascii": false,
       "bar_format": null,
       "colour": null,
       "elapsed": 0.02491903305053711,
       "initial": 0,
       "n": 0,
       "ncols": null,
       "nrows": 29,
       "postfix": null,
       "prefix": "Downloading (…)_Pooling/config.json",
       "rate": null,
       "total": 190,
       "unit": "B",
       "unit_divisor": 1000,
       "unit_scale": true
      },
      "application/vnd.jupyter.widget-view+json": {
       "model_id": "469e19d4266c4c1e886dd3061d98c00e",
       "version_major": 2,
       "version_minor": 0
      },
      "text/plain": [
       "Downloading (…)_Pooling/config.json:   0%|          | 0.00/190 [00:00<?, ?B/s]"
      ]
     },
     "metadata": {},
     "output_type": "display_data"
    },
    {
     "data": {
      "application/json": {
       "ascii": false,
       "bar_format": null,
       "colour": null,
       "elapsed": 0.02092909812927246,
       "initial": 0,
       "n": 0,
       "ncols": null,
       "nrows": 29,
       "postfix": null,
       "prefix": "Downloading (…)1a515925a9/README.md",
       "rate": null,
       "total": 3988,
       "unit": "B",
       "unit_divisor": 1000,
       "unit_scale": true
      },
      "application/vnd.jupyter.widget-view+json": {
       "model_id": "ac83daa08bac436384585e2e9000de1c",
       "version_major": 2,
       "version_minor": 0
      },
      "text/plain": [
       "Downloading (…)1a515925a9/README.md:   0%|          | 0.00/3.99k [00:00<?, ?B/s]"
      ]
     },
     "metadata": {},
     "output_type": "display_data"
    },
    {
     "data": {
      "application/json": {
       "ascii": false,
       "bar_format": null,
       "colour": null,
       "elapsed": 0.007973432540893555,
       "initial": 0,
       "n": 0,
       "ncols": null,
       "nrows": 29,
       "postfix": null,
       "prefix": "Downloading (…)515925a9/config.json",
       "rate": null,
       "total": 550,
       "unit": "B",
       "unit_divisor": 1000,
       "unit_scale": true
      },
      "application/vnd.jupyter.widget-view+json": {
       "model_id": "bb65aa825abe429a921679c7c44d36fc",
       "version_major": 2,
       "version_minor": 0
      },
      "text/plain": [
       "Downloading (…)515925a9/config.json:   0%|          | 0.00/550 [00:00<?, ?B/s]"
      ]
     },
     "metadata": {},
     "output_type": "display_data"
    },
    {
     "data": {
      "application/json": {
       "ascii": false,
       "bar_format": null,
       "colour": null,
       "elapsed": 0.01096487045288086,
       "initial": 0,
       "n": 0,
       "ncols": null,
       "nrows": 29,
       "postfix": null,
       "prefix": "Downloading (…)ce_transformers.json",
       "rate": null,
       "total": 122,
       "unit": "B",
       "unit_divisor": 1000,
       "unit_scale": true
      },
      "application/vnd.jupyter.widget-view+json": {
       "model_id": "a6124cf18b3541d9b7e33cd389cf1314",
       "version_major": 2,
       "version_minor": 0
      },
      "text/plain": [
       "Downloading (…)ce_transformers.json:   0%|          | 0.00/122 [00:00<?, ?B/s]"
      ]
     },
     "metadata": {},
     "output_type": "display_data"
    },
    {
     "data": {
      "application/json": {
       "ascii": false,
       "bar_format": null,
       "colour": null,
       "elapsed": 0.00697636604309082,
       "initial": 0,
       "n": 0,
       "ncols": null,
       "nrows": 29,
       "postfix": null,
       "prefix": "Downloading pytorch_model.bin",
       "rate": null,
       "total": 265486777,
       "unit": "B",
       "unit_divisor": 1000,
       "unit_scale": true
      },
      "application/vnd.jupyter.widget-view+json": {
       "model_id": "ee357e6f9de84f9d90d81da28541621a",
       "version_major": 2,
       "version_minor": 0
      },
      "text/plain": [
       "Downloading pytorch_model.bin:   0%|          | 0.00/265M [00:00<?, ?B/s]"
      ]
     },
     "metadata": {},
     "output_type": "display_data"
    },
    {
     "data": {
      "application/json": {
       "ascii": false,
       "bar_format": null,
       "colour": null,
       "elapsed": 0.008961677551269531,
       "initial": 0,
       "n": 0,
       "ncols": null,
       "nrows": 29,
       "postfix": null,
       "prefix": "Downloading (…)nce_bert_config.json",
       "rate": null,
       "total": 53,
       "unit": "B",
       "unit_divisor": 1000,
       "unit_scale": true
      },
      "application/vnd.jupyter.widget-view+json": {
       "model_id": "736f9c17f32e43bf95ac7bc8b047ec3a",
       "version_major": 2,
       "version_minor": 0
      },
      "text/plain": [
       "Downloading (…)nce_bert_config.json:   0%|          | 0.00/53.0 [00:00<?, ?B/s]"
      ]
     },
     "metadata": {},
     "output_type": "display_data"
    },
    {
     "data": {
      "application/json": {
       "ascii": false,
       "bar_format": null,
       "colour": null,
       "elapsed": 0.006977558135986328,
       "initial": 0,
       "n": 0,
       "ncols": null,
       "nrows": 29,
       "postfix": null,
       "prefix": "Downloading (…)cial_tokens_map.json",
       "rate": null,
       "total": 112,
       "unit": "B",
       "unit_divisor": 1000,
       "unit_scale": true
      },
      "application/vnd.jupyter.widget-view+json": {
       "model_id": "e3c6b92e29b441f3b46c24f594fed1b2",
       "version_major": 2,
       "version_minor": 0
      },
      "text/plain": [
       "Downloading (…)cial_tokens_map.json:   0%|          | 0.00/112 [00:00<?, ?B/s]"
      ]
     },
     "metadata": {},
     "output_type": "display_data"
    },
    {
     "data": {
      "application/json": {
       "ascii": false,
       "bar_format": null,
       "colour": null,
       "elapsed": 0.006985187530517578,
       "initial": 0,
       "n": 0,
       "ncols": null,
       "nrows": 29,
       "postfix": null,
       "prefix": "Downloading (…)925a9/tokenizer.json",
       "rate": null,
       "total": 466081,
       "unit": "B",
       "unit_divisor": 1000,
       "unit_scale": true
      },
      "application/vnd.jupyter.widget-view+json": {
       "model_id": "a22b2b2c11b64715a2b67ab5f61b1360",
       "version_major": 2,
       "version_minor": 0
      },
      "text/plain": [
       "Downloading (…)925a9/tokenizer.json:   0%|          | 0.00/466k [00:00<?, ?B/s]"
      ]
     },
     "metadata": {},
     "output_type": "display_data"
    },
    {
     "data": {
      "application/json": {
       "ascii": false,
       "bar_format": null,
       "colour": null,
       "elapsed": 0.00896453857421875,
       "initial": 0,
       "n": 0,
       "ncols": null,
       "nrows": 29,
       "postfix": null,
       "prefix": "Downloading (…)okenizer_config.json",
       "rate": null,
       "total": 450,
       "unit": "B",
       "unit_divisor": 1000,
       "unit_scale": true
      },
      "application/vnd.jupyter.widget-view+json": {
       "model_id": "19d37cea5f95402c8eaf335d97d53a2f",
       "version_major": 2,
       "version_minor": 0
      },
      "text/plain": [
       "Downloading (…)okenizer_config.json:   0%|          | 0.00/450 [00:00<?, ?B/s]"
      ]
     },
     "metadata": {},
     "output_type": "display_data"
    },
    {
     "data": {
      "application/json": {
       "ascii": false,
       "bar_format": null,
       "colour": null,
       "elapsed": 0.008925437927246094,
       "initial": 0,
       "n": 0,
       "ncols": null,
       "nrows": 29,
       "postfix": null,
       "prefix": "Downloading (…)1a515925a9/vocab.txt",
       "rate": null,
       "total": 231508,
       "unit": "B",
       "unit_divisor": 1000,
       "unit_scale": true
      },
      "application/vnd.jupyter.widget-view+json": {
       "model_id": "881cdfb1899a42ff8e64945da95bb130",
       "version_major": 2,
       "version_minor": 0
      },
      "text/plain": [
       "Downloading (…)1a515925a9/vocab.txt:   0%|          | 0.00/232k [00:00<?, ?B/s]"
      ]
     },
     "metadata": {},
     "output_type": "display_data"
    },
    {
     "data": {
      "application/json": {
       "ascii": false,
       "bar_format": null,
       "colour": null,
       "elapsed": 0.006890058517456055,
       "initial": 0,
       "n": 0,
       "ncols": null,
       "nrows": 29,
       "postfix": null,
       "prefix": "Downloading (…)15925a9/modules.json",
       "rate": null,
       "total": 229,
       "unit": "B",
       "unit_divisor": 1000,
       "unit_scale": true
      },
      "application/vnd.jupyter.widget-view+json": {
       "model_id": "45d7ca9678284749a84a17f7620a6c8f",
       "version_major": 2,
       "version_minor": 0
      },
      "text/plain": [
       "Downloading (…)15925a9/modules.json:   0%|          | 0.00/229 [00:00<?, ?B/s]"
      ]
     },
     "metadata": {},
     "output_type": "display_data"
    }
   ],
   "source": [
    "from sentence_transformers import SentenceTransformer, InputExample\n",
    "from torch.utils.data import DataLoader\n",
    "\n",
    "model = SentenceTransformer('distilbert-base-nli-mean-tokens')\n",
    "train_examples = [InputExample(texts=['My first sentence', 'My second sentence'], label=0.8),\n",
    "   InputExample(texts=['Another pair', 'Unrelated sentence'], label=0.3)]\n",
    "train_dataloader = DataLoader(train_examples, shuffle=True, batch_size=16)"
   ]
  },
  {
   "attachments": {
    "image.png": {
     "image/png": "[encoded data removed]"
    }
   },
   "cell_type": "markdown",
   "id": "8d157bb6",
   "metadata": {},
   "source": [
    "### Loss Functions\n",
    "The loss function plays a critical role when fine-tuning the model. It determines how well our embedding model will work for the specific downstream task.\n",
    "\n",
    "Sadly there is no “one size fits all” loss function. Which loss function is suitable depends on the available training data and on the target task.\n",
    "\n",
    "To fine-tune our network, we need somehow to tell our network which sentence pairs are similar, and should be close in vector space, and which pairs are dissimilar, and should be far away in vector space.\n",
    "\n",
    "The most simple way is to have sentence pairs annotated with a score indicating their similarity, e.g. on a scale 0 to 1. We can then train the network with a Siamese Network Architecture (for details see: Sentence-BERT: Sentence Embeddings using Siamese BERT-Networks)\n",
    "\n",
    "SBERT Siamese Network Architecture![image.png](attachment:image.png)\n",
    "\n",
    "For each sentence pair, we pass sentence A and sentence B through our network which yields the embeddings u und v. The similarity of these embeddings is computed using cosine similarity and the result is compared to the gold similarity score. This allows our network to be fine-tuned and to recognize the similarity of sentences."
   ]
  },
  {
   "cell_type": "code",
   "execution_count": 21,
   "id": "c23f0798",
   "metadata": {},
   "outputs": [
    {
     "data": {
      "application/json": {
       "ascii": false,
       "bar_format": null,
       "colour": null,
       "elapsed": 0.012957096099853516,
       "initial": 0,
       "n": 0,
       "ncols": null,
       "nrows": 29,
       "postfix": null,
       "prefix": "Epoch",
       "rate": null,
       "total": 1,
       "unit": "it",
       "unit_divisor": 1000,
       "unit_scale": false
      },
      "application/vnd.jupyter.widget-view+json": {
       "model_id": "43107d10bd424979b7a2b9d24619dc32",
       "version_major": 2,
       "version_minor": 0
      },
      "text/plain": [
       "Epoch:   0%|          | 0/1 [00:00<?, ?it/s]"
      ]
     },
     "metadata": {},
     "output_type": "display_data"
    },
    {
     "data": {
      "application/json": {
       "ascii": false,
       "bar_format": null,
       "colour": null,
       "elapsed": 0.011957406997680664,
       "initial": 0,
       "n": 0,
       "ncols": null,
       "nrows": 29,
       "postfix": null,
       "prefix": "Iteration",
       "rate": null,
       "total": 1,
       "unit": "it",
       "unit_divisor": 1000,
       "unit_scale": false
      },
      "application/vnd.jupyter.widget-view+json": {
       "model_id": "283225427145449bbfb24c6c64fd97f4",
       "version_major": 2,
       "version_minor": 0
      },
      "text/plain": [
       "Iteration:   0%|          | 0/1 [00:00<?, ?it/s]"
      ]
     },
     "metadata": {},
     "output_type": "display_data"
    }
   ],
   "source": [
    "from sentence_transformers import SentenceTransformer, InputExample, losses\n",
    "from torch.utils.data import DataLoader\n",
    "\n",
    "#Define the model. Either from scratch of by loading a pre-trained model\n",
    "model = SentenceTransformer('distilbert-base-nli-mean-tokens')\n",
    "\n",
    "#Define your train examples. You need more than just two examples...\n",
    "train_examples = [InputExample(texts=['My first sentence', 'My second sentence'], label=0.8),\n",
    "    InputExample(texts=['Another pair', 'Unrelated sentence'], label=0.3)]\n",
    "\n",
    "#Define your train dataset, the dataloader and the train loss\n",
    "train_dataloader = DataLoader(train_examples, shuffle=True, batch_size=16)\n",
    "train_loss = losses.CosineSimilarityLoss(model)\n",
    "\n",
    "#Tune the model\n",
    "model.fit(train_objectives=[(train_dataloader, train_loss)], epochs=1, warmup_steps=100)"
   ]
  },
  {
   "cell_type": "markdown",
   "id": "6ce65453",
   "metadata": {},
   "source": [
    "We tune the model by calling model.fit(). We pass a list of train_objectives, which consist of tuples (dataloader, loss_function). We can pass more than one tuple in order to perform multi-task learning on several datasets with different loss functions.\n",
    "\n",
    "The fit method accepts the following parameter:\n",
    "Parameters\n",
    "model_name_or_path – If it is a filepath on disc, it loads the model from that path. If it is not a path, it first tries to download a pre-trained SentenceTransformer model. If that fails, tries to construct a model from Huggingface models repository with that name.\n",
    "\n",
    "modules – This parameter can be used to create custom SentenceTransformer models from scratch.\n",
    "\n",
    "device – Device (like ‘cuda’ / ‘cpu’) that should be used for computation. If None, checks if a GPU can be used.\n",
    "\n",
    "cache_folder – Path to store models\n",
    "\n",
    "use_auth_token – HuggingFace authentication token to download private models."
   ]
  },
  {
   "cell_type": "markdown",
   "id": "f9c3a3d3",
   "metadata": {},
   "source": [
    "### Evaluators\n",
    "During training, we usually want to measure the performance to see if the performance improves. For this, the sentence_transformers.evaluation package exists. It contains various evaluators which we can pass to the fit-method. These evaluators are run periodically during training. Further, they return a score and only the model with the highest score will be stored on disc.\n",
    "\n",
    "The usage is simple:"
   ]
  },
  {
   "cell_type": "code",
   "execution_count": 22,
   "id": "1fca9f9e",
   "metadata": {},
   "outputs": [
    {
     "data": {
      "application/json": {
       "ascii": false,
       "bar_format": null,
       "colour": null,
       "elapsed": 0.007976531982421875,
       "initial": 0,
       "n": 0,
       "ncols": null,
       "nrows": 29,
       "postfix": null,
       "prefix": "Epoch",
       "rate": null,
       "total": 1,
       "unit": "it",
       "unit_divisor": 1000,
       "unit_scale": false
      },
      "application/vnd.jupyter.widget-view+json": {
       "model_id": "030d696be9344dd7b00205e727e97906",
       "version_major": 2,
       "version_minor": 0
      },
      "text/plain": [
       "Epoch:   0%|          | 0/1 [00:00<?, ?it/s]"
      ]
     },
     "metadata": {},
     "output_type": "display_data"
    },
    {
     "data": {
      "application/json": {
       "ascii": false,
       "bar_format": null,
       "colour": null,
       "elapsed": 0.015947341918945312,
       "initial": 0,
       "n": 0,
       "ncols": null,
       "nrows": 29,
       "postfix": null,
       "prefix": "Iteration",
       "rate": null,
       "total": 1,
       "unit": "it",
       "unit_divisor": 1000,
       "unit_scale": false
      },
      "application/vnd.jupyter.widget-view+json": {
       "model_id": "55aee899e9864a19b2b3331bae5efcc9",
       "version_major": 2,
       "version_minor": 0
      },
      "text/plain": [
       "Iteration:   0%|          | 0/1 [00:00<?, ?it/s]"
      ]
     },
     "metadata": {},
     "output_type": "display_data"
    }
   ],
   "source": [
    "from sentence_transformers import evaluation\n",
    "sentences1 = ['This list contains the first column', 'With your sentences', 'You want your model to evaluate on']\n",
    "sentences2 = ['Sentences contains the other column', 'The evaluator matches sentences1[i] with sentences2[i]', 'Compute the cosine similarity and compares it to scores[i]']\n",
    "scores = [0.3, 0.6, 0.2]\n",
    "\n",
    "evaluator = evaluation.EmbeddingSimilarityEvaluator(sentences1, sentences2, scores)\n",
    "\n",
    "# ... Your other code to load training data\n",
    "\n",
    "model.fit(train_objectives=[(train_dataloader, train_loss)], epochs=1, warmup_steps=100, evaluator=evaluator, evaluation_steps=500)"
   ]
  },
  {
   "cell_type": "code",
   "execution_count": null,
   "id": "a243506e",
   "metadata": {},
   "outputs": [],
   "source": []
  }
 ],
 "metadata": {
  "kernelspec": {
   "display_name": "Python 3 (ipykernel)",
   "language": "python",
   "name": "python3"
  },
  "language_info": {
   "codemirror_mode": {
    "name": "ipython",
    "version": 3
   },
   "file_extension": ".py",
   "mimetype": "text/x-python",
   "name": "python",
   "nbconvert_exporter": "python",
   "pygments_lexer": "ipython3",
   "version": "3.9.16"
  }
 },
 "nbformat": 4,
 "nbformat_minor": 5
}
